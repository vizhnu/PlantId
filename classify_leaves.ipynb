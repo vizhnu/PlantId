{
 "cells": [
  {
   "cell_type": "code",
   "execution_count": 37,
   "metadata": {},
   "outputs": [],
   "source": [
    "import pandas as pd\n",
    "import numpy as np\n",
    "import os\n",
    "from pprint import pprint\n",
    "\n",
    "from sklearn.svm import SVC\n",
    "from sklearn import metrics\n",
    "from sklearn.preprocessing import StandardScaler\n",
    "from sklearn.base import BaseEstimator, TransformerMixin\n",
    "from sklearn.model_selection import cross_val_score\n",
    "from sklearn.model_selection import train_test_split\n",
    "from sklearn.pipeline import Pipeline\n",
    "from sklearn.ensemble import RandomForestClassifier\n",
    "from sklearn.cluster import KMeans\n",
    "from sklearn.metrics import confusion_matrix, classification_report\n",
    "from sklearn import preprocessing\n",
    "from sklearn.model_selection import GridSearchCV, cross_val_score\n",
    "import matplotlib.pyplot as plt\n"
   ]
  },
  {
   "cell_type": "code",
   "execution_count": 62,
   "metadata": {},
   "outputs": [],
   "source": [
    "BASE_PATH = '/media/Education/BTech/S8/Projects/Project/Dataset'\n",
    "DATA_FILE = 'dataset.csv'\n",
    "\n",
    "FILE_PATH = os.path.join(BASE_PATH, DATA_FILE)"
   ]
  },
  {
   "cell_type": "code",
   "execution_count": 65,
   "metadata": {},
   "outputs": [
    {
     "data": {
      "text/html": [
       "<div>\n",
       "<style scoped>\n",
       "    .dataframe tbody tr th:only-of-type {\n",
       "        vertical-align: middle;\n",
       "    }\n",
       "\n",
       "    .dataframe tbody tr th {\n",
       "        vertical-align: top;\n",
       "    }\n",
       "\n",
       "    .dataframe thead th {\n",
       "        text-align: right;\n",
       "    }\n",
       "</style>\n",
       "<table border=\"1\" class=\"dataframe\">\n",
       "  <thead>\n",
       "    <tr style=\"text-align: right;\">\n",
       "      <th></th>\n",
       "      <th>leafid</th>\n",
       "      <th>area</th>\n",
       "      <th>perimeter</th>\n",
       "      <th>physiological_length</th>\n",
       "      <th>physiological_width</th>\n",
       "      <th>aspect_ratio</th>\n",
       "      <th>rectangularity</th>\n",
       "      <th>circularity</th>\n",
       "      <th>mean_r</th>\n",
       "      <th>mean_g</th>\n",
       "      <th>mean_b</th>\n",
       "      <th>stddev_r</th>\n",
       "      <th>stddev_g</th>\n",
       "      <th>stddev_b</th>\n",
       "      <th>contrast</th>\n",
       "      <th>correlation</th>\n",
       "      <th>inverse_difference_moments</th>\n",
       "      <th>entropy</th>\n",
       "      <th>label</th>\n",
       "    </tr>\n",
       "  </thead>\n",
       "  <tbody>\n",
       "    <tr>\n",
       "      <th>0</th>\n",
       "      <td>IMG_20200602_180156.jpg</td>\n",
       "      <td>4476798.0</td>\n",
       "      <td>17821.159711</td>\n",
       "      <td>2340</td>\n",
       "      <td>4160</td>\n",
       "      <td>0.562500</td>\n",
       "      <td>2.174411</td>\n",
       "      <td>70.942163</td>\n",
       "      <td>134.702940</td>\n",
       "      <td>115.104634</td>\n",
       "      <td>108.986437</td>\n",
       "      <td>26.107629</td>\n",
       "      <td>23.286820</td>\n",
       "      <td>23.583072</td>\n",
       "      <td>0.512578</td>\n",
       "      <td>0.999557</td>\n",
       "      <td>0.872790</td>\n",
       "      <td>7.514961</td>\n",
       "      <td>Tulsi</td>\n",
       "    </tr>\n",
       "    <tr>\n",
       "      <th>0</th>\n",
       "      <td>IMG_20200602_182942.jpg</td>\n",
       "      <td>4212655.5</td>\n",
       "      <td>16891.073488</td>\n",
       "      <td>4160</td>\n",
       "      <td>2340</td>\n",
       "      <td>1.777778</td>\n",
       "      <td>2.310751</td>\n",
       "      <td>67.726488</td>\n",
       "      <td>124.878271</td>\n",
       "      <td>107.684257</td>\n",
       "      <td>102.018447</td>\n",
       "      <td>31.813694</td>\n",
       "      <td>27.871602</td>\n",
       "      <td>27.094209</td>\n",
       "      <td>0.605756</td>\n",
       "      <td>0.999637</td>\n",
       "      <td>0.851295</td>\n",
       "      <td>7.954006</td>\n",
       "      <td>Tulsi</td>\n",
       "    </tr>\n",
       "    <tr>\n",
       "      <th>0</th>\n",
       "      <td>IMG_20200602_181446.jpg</td>\n",
       "      <td>408361.5</td>\n",
       "      <td>2896.833816</td>\n",
       "      <td>531</td>\n",
       "      <td>1161</td>\n",
       "      <td>0.457364</td>\n",
       "      <td>1.509670</td>\n",
       "      <td>20.549553</td>\n",
       "      <td>131.702823</td>\n",
       "      <td>112.889681</td>\n",
       "      <td>107.191281</td>\n",
       "      <td>24.422120</td>\n",
       "      <td>21.293975</td>\n",
       "      <td>22.341319</td>\n",
       "      <td>0.673855</td>\n",
       "      <td>0.999317</td>\n",
       "      <td>0.871159</td>\n",
       "      <td>7.414461</td>\n",
       "      <td>Tulsi</td>\n",
       "    </tr>\n",
       "    <tr>\n",
       "      <th>0</th>\n",
       "      <td>IMG_20200602_175538.jpg</td>\n",
       "      <td>4593147.5</td>\n",
       "      <td>17851.544487</td>\n",
       "      <td>2340</td>\n",
       "      <td>4160</td>\n",
       "      <td>0.562500</td>\n",
       "      <td>2.119331</td>\n",
       "      <td>69.381103</td>\n",
       "      <td>134.650933</td>\n",
       "      <td>114.614550</td>\n",
       "      <td>108.711329</td>\n",
       "      <td>24.456428</td>\n",
       "      <td>22.039913</td>\n",
       "      <td>21.664648</td>\n",
       "      <td>0.612490</td>\n",
       "      <td>0.999403</td>\n",
       "      <td>0.876848</td>\n",
       "      <td>7.425606</td>\n",
       "      <td>Tulsi</td>\n",
       "    </tr>\n",
       "    <tr>\n",
       "      <th>0</th>\n",
       "      <td>IMG_20200602_175626.jpg</td>\n",
       "      <td>4596812.0</td>\n",
       "      <td>18057.586118</td>\n",
       "      <td>2340</td>\n",
       "      <td>4160</td>\n",
       "      <td>0.562500</td>\n",
       "      <td>2.117642</td>\n",
       "      <td>70.935339</td>\n",
       "      <td>132.459199</td>\n",
       "      <td>113.308073</td>\n",
       "      <td>107.696607</td>\n",
       "      <td>23.681647</td>\n",
       "      <td>21.342995</td>\n",
       "      <td>21.012053</td>\n",
       "      <td>0.779036</td>\n",
       "      <td>0.999189</td>\n",
       "      <td>0.855932</td>\n",
       "      <td>7.547321</td>\n",
       "      <td>Tulsi</td>\n",
       "    </tr>\n",
       "  </tbody>\n",
       "</table>\n",
       "</div>"
      ],
      "text/plain": [
       "                    leafid       area     perimeter  physiological_length  \\\n",
       "0  IMG_20200602_180156.jpg  4476798.0  17821.159711                  2340   \n",
       "0  IMG_20200602_182942.jpg  4212655.5  16891.073488                  4160   \n",
       "0  IMG_20200602_181446.jpg   408361.5   2896.833816                   531   \n",
       "0  IMG_20200602_175538.jpg  4593147.5  17851.544487                  2340   \n",
       "0  IMG_20200602_175626.jpg  4596812.0  18057.586118                  2340   \n",
       "\n",
       "   physiological_width  aspect_ratio  rectangularity  circularity      mean_r  \\\n",
       "0                 4160      0.562500        2.174411    70.942163  134.702940   \n",
       "0                 2340      1.777778        2.310751    67.726488  124.878271   \n",
       "0                 1161      0.457364        1.509670    20.549553  131.702823   \n",
       "0                 4160      0.562500        2.119331    69.381103  134.650933   \n",
       "0                 4160      0.562500        2.117642    70.935339  132.459199   \n",
       "\n",
       "       mean_g      mean_b   stddev_r   stddev_g   stddev_b  contrast  \\\n",
       "0  115.104634  108.986437  26.107629  23.286820  23.583072  0.512578   \n",
       "0  107.684257  102.018447  31.813694  27.871602  27.094209  0.605756   \n",
       "0  112.889681  107.191281  24.422120  21.293975  22.341319  0.673855   \n",
       "0  114.614550  108.711329  24.456428  22.039913  21.664648  0.612490   \n",
       "0  113.308073  107.696607  23.681647  21.342995  21.012053  0.779036   \n",
       "\n",
       "   correlation  inverse_difference_moments   entropy  label  \n",
       "0     0.999557                    0.872790  7.514961  Tulsi  \n",
       "0     0.999637                    0.851295  7.954006  Tulsi  \n",
       "0     0.999317                    0.871159  7.414461  Tulsi  \n",
       "0     0.999403                    0.876848  7.425606  Tulsi  \n",
       "0     0.999189                    0.855932  7.547321  Tulsi  "
      ]
     },
     "execution_count": 65,
     "metadata": {},
     "output_type": "execute_result"
    }
   ],
   "source": [
    "leaf_data = pd.read_csv(FILE_PATH, index_col=0)\n",
    "\n",
    "train_set, test_set = train_test_split(leaf_data, test_size=0.2, random_state=42)\n",
    "leaf_data.head()"
   ]
  },
  {
   "cell_type": "code",
   "execution_count": 66,
   "metadata": {},
   "outputs": [],
   "source": [
    "class DataFrameSelector(BaseEstimator, TransformerMixin):\n",
    "    def __init__(self, attribute_names):\n",
    "        self.attribute_names = attribute_names\n",
    "    def fit(self, X, y=None):\n",
    "        return self\n",
    "    def transform(self, X):\n",
    "        scaler = StandardScaler()\n",
    "        return scaler.fit_transform(X[self.attribute_names])"
   ]
  },
  {
   "cell_type": "code",
   "execution_count": 67,
   "metadata": {
    "scrolled": true
   },
   "outputs": [],
   "source": [
    "to_plot, _ = train_test_split(train_set,test_size=0.7, random_state=42)"
   ]
  },
  {
   "cell_type": "code",
   "execution_count": 68,
   "metadata": {},
   "outputs": [],
   "source": [
    "preprocess_pipeline = Pipeline([\n",
    "        (\"select_features\", DataFrameSelector([\"area\",\"perimeter\",\"physiological_width\",\"physiological_length\",\"rectangularity\",\"aspect_ratio\",\"circularity\",\"contrast\",\"correlation\",\"mean_r\",\"mean_g\",\"mean_b\",\"stddev_r\",\"stddev_g\",\"stddev_b\",\"entropy\",\"inverse_difference_moments\"])),\n",
    "])"
   ]
  },
  {
   "cell_type": "code",
   "execution_count": 69,
   "metadata": {
    "scrolled": true
   },
   "outputs": [],
   "source": [
    "X_train = preprocess_pipeline.fit_transform(train_set)\n",
    "y_train = np.array(train_set[\"label\"])"
   ]
  },
  {
   "cell_type": "code",
   "execution_count": 126,
   "metadata": {},
   "outputs": [
    {
     "name": "stdout",
     "output_type": "stream",
     "text": [
      "Best estimator found by grid search:\n",
      "SVC(C=1000, break_ties=False, cache_size=200, class_weight=None, coef0=0.0,\n",
      "    decision_function_shape='ovr', degree=3, gamma=0.001, kernel='rbf',\n",
      "    max_iter=-1, probability=False, random_state=None, shrinking=True,\n",
      "    tol=0.001, verbose=False)\n"
     ]
    }
   ],
   "source": [
    "param_grid = [{'C': [0.1,1,10,100,1000], 'kernel': ['rbf'], 'gamma':[1e-4, 1e-3, 0.01, 0.1, 0.2, 0.5]}, \n",
    "              {'C': [0.1,1,10,100,1000], 'kernel': ['rbf']}]\n",
    "clf = GridSearchCV(SVC(), param_grid, cv=5)\n",
    "clf = clf.fit(X_train, y_train)\n",
    "print(\"Best estimator found by grid search:\")\n",
    "print(clf.best_estimator_)"
   ]
  },
  {
   "cell_type": "code",
   "execution_count": 127,
   "metadata": {},
   "outputs": [],
   "source": [
    "svm_clf = clf"
   ]
  },
  {
   "cell_type": "code",
   "execution_count": 128,
   "metadata": {},
   "outputs": [
    {
     "name": "stdout",
     "output_type": "stream",
     "text": [
      "['Tulsi' 'Chilli' 'Mango' 'Acasia' 'Acasia' 'Hibiscus' 'Acasia' 'Tulsi'\n",
      " 'Guava' 'Guava' 'Acasia' 'Guava' 'Guava' 'Chilli' 'Hibiscus' 'Guava'\n",
      " 'Guava' 'Hibiscus' 'Chilli' 'Mango' 'Guava' 'Acasia' 'Tulsi' 'Tulsi'\n",
      " 'Guava' 'Tulsi' 'Tulsi' 'Guava' 'Chilli' 'Tulsi' 'Chilli' 'Acasia'\n",
      " 'Hibiscus' 'Guava' 'Acasia' 'Tulsi' 'Guava' 'Mango' 'Chilli' 'Chilli'\n",
      " 'Tulsi' 'Chilli' 'Guava' 'Tulsi' 'Mango' 'Hibiscus' 'Acasia' 'Hibiscus'\n",
      " 'Chilli' 'Hibiscus' 'Tulsi' 'Hibiscus' 'Guava' 'Guava' 'Chilli']\n"
     ]
    }
   ],
   "source": [
    "X_test = preprocess_pipeline.transform(test_set)\n",
    "y_test = np.array(test_set[\"label\"])\n",
    "y_pred = svm_clf.predict(X_test)\n",
    "print(y_pred)"
   ]
  },
  {
   "cell_type": "code",
   "execution_count": 129,
   "metadata": {},
   "outputs": [
    {
     "name": "stdout",
     "output_type": "stream",
     "text": [
      "[-1.57246642 -1.38044218 -1.34559352 -1.35842686 -0.66955039 -0.60840023\n",
      " -0.62991673 -0.92350688 -0.86730013  0.14123855  0.2499897   0.46491468\n",
      " -1.24313361 -1.13465481 -1.1157185  -1.30042881  0.11221583]\n"
     ]
    }
   ],
   "source": [
    "print(X_test[0])"
   ]
  },
  {
   "cell_type": "code",
   "execution_count": 130,
   "metadata": {},
   "outputs": [
    {
     "data": {
      "text/plain": [
       "0.9541125541125541"
      ]
     },
     "execution_count": 130,
     "metadata": {},
     "output_type": "execute_result"
    }
   ],
   "source": [
    "svm_scores = cross_val_score(svm_clf, X_train, y_train, cv=10)\n",
    "svm_scores.mean()"
   ]
  },
  {
   "cell_type": "code",
   "execution_count": 75,
   "metadata": {
    "scrolled": true
   },
   "outputs": [
    {
     "data": {
      "text/plain": [
       "array([[ 6,  0,  0,  0,  0,  0],\n",
       "       [ 1, 10,  0,  0,  0,  0],\n",
       "       [ 0,  0, 14,  0,  0,  0],\n",
       "       [ 0,  0,  0,  8,  0,  0],\n",
       "       [ 1,  0,  0,  0,  4,  0],\n",
       "       [ 0,  0,  0,  0,  0, 11]])"
      ]
     },
     "execution_count": 75,
     "metadata": {},
     "output_type": "execute_result"
    }
   ],
   "source": [
    "accuracy = svm_clf.score(X_test,y_test)\n",
    "cm = confusion_matrix(y_test, y_pred)\n",
    "cm\n"
   ]
  },
  {
   "cell_type": "code",
   "execution_count": 76,
   "metadata": {},
   "outputs": [
    {
     "name": "stdout",
     "output_type": "stream",
     "text": [
      "              precision    recall  f1-score   support\n",
      "\n",
      "      Acasia       0.75      1.00      0.86         6\n",
      "      Chilli       1.00      0.91      0.95        11\n",
      "       Guava       1.00      1.00      1.00        14\n",
      "    Hibiscus       1.00      1.00      1.00         8\n",
      "       Mango       1.00      0.80      0.89         5\n",
      "       Tulsi       1.00      1.00      1.00        11\n",
      "\n",
      "    accuracy                           0.96        55\n",
      "   macro avg       0.96      0.95      0.95        55\n",
      "weighted avg       0.97      0.96      0.96        55\n",
      "\n"
     ]
    }
   ],
   "source": [
    "print(classification_report(y_test, y_pred))"
   ]
  },
  {
   "cell_type": "code",
   "execution_count": 77,
   "metadata": {},
   "outputs": [
    {
     "data": {
      "text/plain": [
       "0.9497835497835497"
      ]
     },
     "execution_count": 77,
     "metadata": {},
     "output_type": "execute_result"
    }
   ],
   "source": [
    "forest_clf = RandomForestClassifier(n_estimators=100, random_state=42)\n",
    "forest_clf.fit(X_train, y_train)\n",
    "forest_scores = cross_val_score(forest_clf, X_train, y_train, cv=10)\n",
    "\n",
    "forest_pred = forest_clf.predict(X_test)\n",
    "forest_scores.mean()"
   ]
  },
  {
   "cell_type": "code",
   "execution_count": 78,
   "metadata": {},
   "outputs": [
    {
     "data": {
      "text/plain": [
       "array([[ 6,  0,  0,  0,  0,  0],\n",
       "       [ 0, 10,  0,  0,  0,  1],\n",
       "       [ 0,  0, 13,  1,  0,  0],\n",
       "       [ 0,  0,  0,  8,  0,  0],\n",
       "       [ 2,  0,  0,  0,  3,  0],\n",
       "       [ 0,  0,  0,  0,  0, 11]])"
      ]
     },
     "execution_count": 78,
     "metadata": {},
     "output_type": "execute_result"
    }
   ],
   "source": [
    "cm = confusion_matrix(y_test, forest_pred)\n",
    "cm"
   ]
  },
  {
   "cell_type": "code",
   "execution_count": 79,
   "metadata": {},
   "outputs": [
    {
     "name": "stdout",
     "output_type": "stream",
     "text": [
      "kprred\n"
     ]
    },
    {
     "data": {
      "text/plain": [
       "array([14,  6, 12,  4,  5,  8,  9, 13,  1,  0,  9, 11, 11,  6,  8,  1, 11,\n",
       "        8,  2,  5, 11,  4, 14, 14, 11,  3,  3,  0,  2, 13,  7,  9,  1,  1,\n",
       "       12, 13,  1,  5,  6,  2,  7,  2,  1,  7,  0,  0,  2, 11, 10,  8, 14,\n",
       "        8, 11,  1,  2], dtype=int32)"
      ]
     },
     "execution_count": 79,
     "metadata": {},
     "output_type": "execute_result"
    }
   ],
   "source": [
    "kmeans = KMeans(n_clusters=15, random_state=0).fit(X_train)\n",
    "k_pred = kmeans.predict(X_test)\n",
    "print('kprred')\n",
    "k_pred\n"
   ]
  },
  {
   "cell_type": "code",
   "execution_count": 80,
   "metadata": {},
   "outputs": [
    {
     "name": "stdout",
     "output_type": "stream",
     "text": [
      "Accuracy:0.000000\n"
     ]
    }
   ],
   "source": [
    "score = metrics.accuracy_score(y_test,kmeans.predict(X_test))\n",
    "print('Accuracy:{0:f}'.format(score))"
   ]
  },
  {
   "cell_type": "code",
   "execution_count": 81,
   "metadata": {},
   "outputs": [
    {
     "data": {
      "text/plain": [
       "array(['Tulsi', 'Chilli', 'Acasia', 'Acasia', 'Acasia', 'Hibiscus',\n",
       "       'Acasia', 'Tulsi', 'Guava', 'Guava', 'Acasia', 'Guava', 'Hibiscus',\n",
       "       'Chilli', 'Hibiscus', 'Guava', 'Guava', 'Hibiscus', 'Chilli',\n",
       "       'Mango', 'Guava', 'Acasia', 'Tulsi', 'Tulsi', 'Guava', 'Tulsi',\n",
       "       'Tulsi', 'Guava', 'Chilli', 'Tulsi', 'Tulsi', 'Acasia', 'Hibiscus',\n",
       "       'Guava', 'Acasia', 'Tulsi', 'Guava', 'Mango', 'Chilli', 'Chilli',\n",
       "       'Tulsi', 'Chilli', 'Guava', 'Tulsi', 'Mango', 'Hibiscus', 'Chilli',\n",
       "       'Hibiscus', 'Chilli', 'Hibiscus', 'Tulsi', 'Hibiscus', 'Guava',\n",
       "       'Guava', 'Chilli'], dtype=object)"
      ]
     },
     "execution_count": 81,
     "metadata": {},
     "output_type": "execute_result"
    }
   ],
   "source": [
    "forest_pred = forest_clf.predict(X_test)\n",
    "forest_pred"
   ]
  },
  {
   "cell_type": "code",
   "execution_count": 82,
   "metadata": {},
   "outputs": [
    {
     "name": "stdout",
     "output_type": "stream",
     "text": [
      "y_test\n",
      "array(['Tulsi', 'Chilli', 'Mango', 'Acasia', 'Acasia', 'Hibiscus',\n",
      "       'Acasia', 'Tulsi', 'Guava', 'Guava', 'Acasia', 'Guava', 'Guava',\n",
      "       'Chilli', 'Hibiscus', 'Guava', 'Guava', 'Hibiscus', 'Chilli',\n",
      "       'Mango', 'Guava', 'Acasia', 'Tulsi', 'Tulsi', 'Guava', 'Tulsi',\n",
      "       'Tulsi', 'Guava', 'Chilli', 'Tulsi', 'Chilli', 'Mango', 'Hibiscus',\n",
      "       'Guava', 'Acasia', 'Tulsi', 'Guava', 'Mango', 'Chilli', 'Chilli',\n",
      "       'Tulsi', 'Chilli', 'Guava', 'Tulsi', 'Mango', 'Hibiscus', 'Chilli',\n",
      "       'Hibiscus', 'Chilli', 'Hibiscus', 'Tulsi', 'Hibiscus', 'Guava',\n",
      "       'Guava', 'Chilli'], dtype=object)\n"
     ]
    }
   ],
   "source": [
    "print('y_test')\n",
    "pprint(y_test)"
   ]
  },
  {
   "cell_type": "code",
   "execution_count": 83,
   "metadata": {},
   "outputs": [],
   "source": [
    "from sklearn.neighbors import KNeighborsClassifier "
   ]
  },
  {
   "cell_type": "code",
   "execution_count": 119,
   "metadata": {},
   "outputs": [],
   "source": [
    "knn = KNeighborsClassifier(n_neighbors = 1).fit(X_train, y_train) "
   ]
  },
  {
   "cell_type": "code",
   "execution_count": 120,
   "metadata": {},
   "outputs": [
    {
     "name": "stdout",
     "output_type": "stream",
     "text": [
      "0.9454545454545454\n"
     ]
    }
   ],
   "source": [
    "accuracy = knn.score(X_test, y_test) \n",
    "print (accuracy)"
   ]
  },
  {
   "cell_type": "code",
   "execution_count": 86,
   "metadata": {},
   "outputs": [
    {
     "data": {
      "text/plain": [
       "array([[ 4,  0,  0,  0,  1,  1],\n",
       "       [ 0, 10,  0,  0,  1,  0],\n",
       "       [ 0,  0, 13,  1,  0,  0],\n",
       "       [ 0,  0,  0,  8,  0,  0],\n",
       "       [ 2,  0,  0,  0,  3,  0],\n",
       "       [ 2,  3,  0,  0,  0,  6]])"
      ]
     },
     "execution_count": 86,
     "metadata": {},
     "output_type": "execute_result"
    }
   ],
   "source": [
    "knn_predictions = knn.predict(X_test)  \n",
    "cm = confusion_matrix(y_test, knn_predictions)\n",
    "cm"
   ]
  },
  {
   "cell_type": "code",
   "execution_count": 87,
   "metadata": {},
   "outputs": [],
   "source": [
    "from sklearn.naive_bayes import GaussianNB"
   ]
  },
  {
   "cell_type": "code",
   "execution_count": 88,
   "metadata": {},
   "outputs": [],
   "source": [
    "gnb = GaussianNB().fit(X_train, y_train) \n",
    "gnb_predictions = gnb.predict(X_test)"
   ]
  },
  {
   "cell_type": "code",
   "execution_count": 89,
   "metadata": {},
   "outputs": [
    {
     "name": "stdout",
     "output_type": "stream",
     "text": [
      "0.8545454545454545\n"
     ]
    }
   ],
   "source": [
    "accuracy = gnb.score(X_test, y_test) \n",
    "print(accuracy)"
   ]
  },
  {
   "cell_type": "code",
   "execution_count": 90,
   "metadata": {
    "scrolled": true
   },
   "outputs": [
    {
     "data": {
      "text/plain": [
       "array([[ 5,  0,  0,  0,  1,  0],\n",
       "       [ 3,  6,  0,  0,  0,  2],\n",
       "       [ 0,  0, 14,  0,  0,  0],\n",
       "       [ 0,  0,  0,  8,  0,  0],\n",
       "       [ 2,  0,  0,  0,  3,  0],\n",
       "       [ 0,  0,  0,  0,  0, 11]])"
      ]
     },
     "execution_count": 90,
     "metadata": {},
     "output_type": "execute_result"
    }
   ],
   "source": [
    "cm = confusion_matrix(y_test, gnb_predictions) \n",
    "cm"
   ]
  },
  {
   "cell_type": "code",
   "execution_count": 131,
   "metadata": {},
   "outputs": [],
   "source": [
    "from sklearn.model_selection import RandomizedSearchCV\n",
    "# Number of trees in random forest\n",
    "n_estimators = [100, 200, 300]\n",
    "# Number of features to consider at every split\n",
    "max_features = ['auto', 'sqrt']\n",
    "# Maximum number of levels in tree\n",
    "# Minimum number of samples required to split a node\n",
    "min_samples_split = [2, 5, 10]\n",
    "# Minimum number of samples required at each leaf node\n",
    "min_samples_leaf = [1, 2, 4]\n",
    "# Method of selecting samples for training each tree\n",
    "bootstrap = [True, False]\n",
    "# Create the random grid\n",
    "random_grid = {'n_estimators': n_estimators,\n",
    "               'max_features': max_features,\n",
    "               'min_samples_split': min_samples_split,\n",
    "               'min_samples_leaf': min_samples_leaf,\n",
    "               'bootstrap': bootstrap}"
   ]
  },
  {
   "cell_type": "code",
   "execution_count": 132,
   "metadata": {
    "scrolled": true
   },
   "outputs": [
    {
     "name": "stdout",
     "output_type": "stream",
     "text": [
      "Fitting 3 folds for each of 100 candidates, totalling 300 fits\n"
     ]
    },
    {
     "name": "stderr",
     "output_type": "stream",
     "text": [
      "[Parallel(n_jobs=-1)]: Using backend LokyBackend with 4 concurrent workers.\n"
     ]
    },
    {
     "ename": "KeyboardInterrupt",
     "evalue": "",
     "output_type": "error",
     "traceback": [
      "\u001b[0;31m---------------------------------------------------------------------------\u001b[0m",
      "\u001b[0;31mKeyboardInterrupt\u001b[0m                         Traceback (most recent call last)",
      "\u001b[0;32m<ipython-input-132-1e6879c9597d>\u001b[0m in \u001b[0;36m<module>\u001b[0;34m()\u001b[0m\n\u001b[1;32m      1\u001b[0m \u001b[0mrf_random\u001b[0m \u001b[0;34m=\u001b[0m \u001b[0mRandomizedSearchCV\u001b[0m\u001b[0;34m(\u001b[0m\u001b[0mestimator\u001b[0m \u001b[0;34m=\u001b[0m \u001b[0mforest_clf\u001b[0m\u001b[0;34m,\u001b[0m \u001b[0mparam_distributions\u001b[0m \u001b[0;34m=\u001b[0m \u001b[0mrandom_grid\u001b[0m\u001b[0;34m,\u001b[0m \u001b[0mn_iter\u001b[0m \u001b[0;34m=\u001b[0m \u001b[0;36m100\u001b[0m\u001b[0;34m,\u001b[0m \u001b[0mcv\u001b[0m \u001b[0;34m=\u001b[0m \u001b[0;36m3\u001b[0m\u001b[0;34m,\u001b[0m \u001b[0mverbose\u001b[0m\u001b[0;34m=\u001b[0m\u001b[0;36m2\u001b[0m\u001b[0;34m,\u001b[0m \u001b[0mrandom_state\u001b[0m\u001b[0;34m=\u001b[0m\u001b[0;36m42\u001b[0m\u001b[0;34m,\u001b[0m \u001b[0mn_jobs\u001b[0m \u001b[0;34m=\u001b[0m \u001b[0;34m-\u001b[0m\u001b[0;36m1\u001b[0m\u001b[0;34m)\u001b[0m\u001b[0;34m\u001b[0m\u001b[0m\n\u001b[1;32m      2\u001b[0m \u001b[0;31m# Fit the random search model\u001b[0m\u001b[0;34m\u001b[0m\u001b[0;34m\u001b[0m\u001b[0m\n\u001b[0;32m----> 3\u001b[0;31m \u001b[0mrf_random\u001b[0m\u001b[0;34m.\u001b[0m\u001b[0mfit\u001b[0m\u001b[0;34m(\u001b[0m\u001b[0mX_train\u001b[0m\u001b[0;34m,\u001b[0m \u001b[0my_train\u001b[0m\u001b[0;34m)\u001b[0m\u001b[0;34m\u001b[0m\u001b[0m\n\u001b[0m",
      "\u001b[0;32m/home/vishnu/.local/lib/python3.6/site-packages/sklearn/model_selection/_search.py\u001b[0m in \u001b[0;36mfit\u001b[0;34m(self, X, y, groups, **fit_params)\u001b[0m\n\u001b[1;32m    708\u001b[0m                 \u001b[0;32mreturn\u001b[0m \u001b[0mresults\u001b[0m\u001b[0;34m\u001b[0m\u001b[0m\n\u001b[1;32m    709\u001b[0m \u001b[0;34m\u001b[0m\u001b[0m\n\u001b[0;32m--> 710\u001b[0;31m             \u001b[0mself\u001b[0m\u001b[0;34m.\u001b[0m\u001b[0m_run_search\u001b[0m\u001b[0;34m(\u001b[0m\u001b[0mevaluate_candidates\u001b[0m\u001b[0;34m)\u001b[0m\u001b[0;34m\u001b[0m\u001b[0m\n\u001b[0m\u001b[1;32m    711\u001b[0m \u001b[0;34m\u001b[0m\u001b[0m\n\u001b[1;32m    712\u001b[0m         \u001b[0;31m# For multi-metric evaluation, store the best_index_, best_params_ and\u001b[0m\u001b[0;34m\u001b[0m\u001b[0;34m\u001b[0m\u001b[0m\n",
      "\u001b[0;32m/home/vishnu/.local/lib/python3.6/site-packages/sklearn/model_selection/_search.py\u001b[0m in \u001b[0;36m_run_search\u001b[0;34m(self, evaluate_candidates)\u001b[0m\n\u001b[1;32m   1482\u001b[0m         evaluate_candidates(ParameterSampler(\n\u001b[1;32m   1483\u001b[0m             \u001b[0mself\u001b[0m\u001b[0;34m.\u001b[0m\u001b[0mparam_distributions\u001b[0m\u001b[0;34m,\u001b[0m \u001b[0mself\u001b[0m\u001b[0;34m.\u001b[0m\u001b[0mn_iter\u001b[0m\u001b[0;34m,\u001b[0m\u001b[0;34m\u001b[0m\u001b[0m\n\u001b[0;32m-> 1484\u001b[0;31m             random_state=self.random_state))\n\u001b[0m",
      "\u001b[0;32m/home/vishnu/.local/lib/python3.6/site-packages/sklearn/model_selection/_search.py\u001b[0m in \u001b[0;36mevaluate_candidates\u001b[0;34m(candidate_params)\u001b[0m\n\u001b[1;32m    687\u001b[0m                                \u001b[0;32mfor\u001b[0m \u001b[0mparameters\u001b[0m\u001b[0;34m,\u001b[0m \u001b[0;34m(\u001b[0m\u001b[0mtrain\u001b[0m\u001b[0;34m,\u001b[0m \u001b[0mtest\u001b[0m\u001b[0;34m)\u001b[0m\u001b[0;34m\u001b[0m\u001b[0m\n\u001b[1;32m    688\u001b[0m                                in product(candidate_params,\n\u001b[0;32m--> 689\u001b[0;31m                                           cv.split(X, y, groups)))\n\u001b[0m\u001b[1;32m    690\u001b[0m \u001b[0;34m\u001b[0m\u001b[0m\n\u001b[1;32m    691\u001b[0m                 \u001b[0;32mif\u001b[0m \u001b[0mlen\u001b[0m\u001b[0;34m(\u001b[0m\u001b[0mout\u001b[0m\u001b[0;34m)\u001b[0m \u001b[0;34m<\u001b[0m \u001b[0;36m1\u001b[0m\u001b[0;34m:\u001b[0m\u001b[0;34m\u001b[0m\u001b[0m\n",
      "\u001b[0;32m/home/vishnu/.local/lib/python3.6/site-packages/joblib/parallel.py\u001b[0m in \u001b[0;36m__call__\u001b[0;34m(self, iterable)\u001b[0m\n\u001b[1;32m   1015\u001b[0m \u001b[0;34m\u001b[0m\u001b[0m\n\u001b[1;32m   1016\u001b[0m             \u001b[0;32mwith\u001b[0m \u001b[0mself\u001b[0m\u001b[0;34m.\u001b[0m\u001b[0m_backend\u001b[0m\u001b[0;34m.\u001b[0m\u001b[0mretrieval_context\u001b[0m\u001b[0;34m(\u001b[0m\u001b[0;34m)\u001b[0m\u001b[0;34m:\u001b[0m\u001b[0;34m\u001b[0m\u001b[0m\n\u001b[0;32m-> 1017\u001b[0;31m                 \u001b[0mself\u001b[0m\u001b[0;34m.\u001b[0m\u001b[0mretrieve\u001b[0m\u001b[0;34m(\u001b[0m\u001b[0;34m)\u001b[0m\u001b[0;34m\u001b[0m\u001b[0m\n\u001b[0m\u001b[1;32m   1018\u001b[0m             \u001b[0;31m# Make sure that we get a last message telling us we are done\u001b[0m\u001b[0;34m\u001b[0m\u001b[0;34m\u001b[0m\u001b[0m\n\u001b[1;32m   1019\u001b[0m             \u001b[0melapsed_time\u001b[0m \u001b[0;34m=\u001b[0m \u001b[0mtime\u001b[0m\u001b[0;34m.\u001b[0m\u001b[0mtime\u001b[0m\u001b[0;34m(\u001b[0m\u001b[0;34m)\u001b[0m \u001b[0;34m-\u001b[0m \u001b[0mself\u001b[0m\u001b[0;34m.\u001b[0m\u001b[0m_start_time\u001b[0m\u001b[0;34m\u001b[0m\u001b[0m\n",
      "\u001b[0;32m/home/vishnu/.local/lib/python3.6/site-packages/joblib/parallel.py\u001b[0m in \u001b[0;36mretrieve\u001b[0;34m(self)\u001b[0m\n\u001b[1;32m    907\u001b[0m             \u001b[0;32mtry\u001b[0m\u001b[0;34m:\u001b[0m\u001b[0;34m\u001b[0m\u001b[0m\n\u001b[1;32m    908\u001b[0m                 \u001b[0;32mif\u001b[0m \u001b[0mgetattr\u001b[0m\u001b[0;34m(\u001b[0m\u001b[0mself\u001b[0m\u001b[0;34m.\u001b[0m\u001b[0m_backend\u001b[0m\u001b[0;34m,\u001b[0m \u001b[0;34m'supports_timeout'\u001b[0m\u001b[0;34m,\u001b[0m \u001b[0;32mFalse\u001b[0m\u001b[0;34m)\u001b[0m\u001b[0;34m:\u001b[0m\u001b[0;34m\u001b[0m\u001b[0m\n\u001b[0;32m--> 909\u001b[0;31m                     \u001b[0mself\u001b[0m\u001b[0;34m.\u001b[0m\u001b[0m_output\u001b[0m\u001b[0;34m.\u001b[0m\u001b[0mextend\u001b[0m\u001b[0;34m(\u001b[0m\u001b[0mjob\u001b[0m\u001b[0;34m.\u001b[0m\u001b[0mget\u001b[0m\u001b[0;34m(\u001b[0m\u001b[0mtimeout\u001b[0m\u001b[0;34m=\u001b[0m\u001b[0mself\u001b[0m\u001b[0;34m.\u001b[0m\u001b[0mtimeout\u001b[0m\u001b[0;34m)\u001b[0m\u001b[0;34m)\u001b[0m\u001b[0;34m\u001b[0m\u001b[0m\n\u001b[0m\u001b[1;32m    910\u001b[0m                 \u001b[0;32melse\u001b[0m\u001b[0;34m:\u001b[0m\u001b[0;34m\u001b[0m\u001b[0m\n\u001b[1;32m    911\u001b[0m                     \u001b[0mself\u001b[0m\u001b[0;34m.\u001b[0m\u001b[0m_output\u001b[0m\u001b[0;34m.\u001b[0m\u001b[0mextend\u001b[0m\u001b[0;34m(\u001b[0m\u001b[0mjob\u001b[0m\u001b[0;34m.\u001b[0m\u001b[0mget\u001b[0m\u001b[0;34m(\u001b[0m\u001b[0;34m)\u001b[0m\u001b[0;34m)\u001b[0m\u001b[0;34m\u001b[0m\u001b[0m\n",
      "\u001b[0;32m/home/vishnu/.local/lib/python3.6/site-packages/joblib/_parallel_backends.py\u001b[0m in \u001b[0;36mwrap_future_result\u001b[0;34m(future, timeout)\u001b[0m\n\u001b[1;32m    560\u001b[0m         AsyncResults.get from multiprocessing.\"\"\"\n\u001b[1;32m    561\u001b[0m         \u001b[0;32mtry\u001b[0m\u001b[0;34m:\u001b[0m\u001b[0;34m\u001b[0m\u001b[0m\n\u001b[0;32m--> 562\u001b[0;31m             \u001b[0;32mreturn\u001b[0m \u001b[0mfuture\u001b[0m\u001b[0;34m.\u001b[0m\u001b[0mresult\u001b[0m\u001b[0;34m(\u001b[0m\u001b[0mtimeout\u001b[0m\u001b[0;34m=\u001b[0m\u001b[0mtimeout\u001b[0m\u001b[0;34m)\u001b[0m\u001b[0;34m\u001b[0m\u001b[0m\n\u001b[0m\u001b[1;32m    563\u001b[0m         \u001b[0;32mexcept\u001b[0m \u001b[0mLokyTimeoutError\u001b[0m\u001b[0;34m:\u001b[0m\u001b[0;34m\u001b[0m\u001b[0m\n\u001b[1;32m    564\u001b[0m             \u001b[0;32mraise\u001b[0m \u001b[0mTimeoutError\u001b[0m\u001b[0;34m(\u001b[0m\u001b[0;34m)\u001b[0m\u001b[0;34m\u001b[0m\u001b[0m\n",
      "\u001b[0;32m/usr/lib/python3.6/concurrent/futures/_base.py\u001b[0m in \u001b[0;36mresult\u001b[0;34m(self, timeout)\u001b[0m\n\u001b[1;32m    425\u001b[0m                 \u001b[0;32mreturn\u001b[0m \u001b[0mself\u001b[0m\u001b[0;34m.\u001b[0m\u001b[0m__get_result\u001b[0m\u001b[0;34m(\u001b[0m\u001b[0;34m)\u001b[0m\u001b[0;34m\u001b[0m\u001b[0m\n\u001b[1;32m    426\u001b[0m \u001b[0;34m\u001b[0m\u001b[0m\n\u001b[0;32m--> 427\u001b[0;31m             \u001b[0mself\u001b[0m\u001b[0;34m.\u001b[0m\u001b[0m_condition\u001b[0m\u001b[0;34m.\u001b[0m\u001b[0mwait\u001b[0m\u001b[0;34m(\u001b[0m\u001b[0mtimeout\u001b[0m\u001b[0;34m)\u001b[0m\u001b[0;34m\u001b[0m\u001b[0m\n\u001b[0m\u001b[1;32m    428\u001b[0m \u001b[0;34m\u001b[0m\u001b[0m\n\u001b[1;32m    429\u001b[0m             \u001b[0;32mif\u001b[0m \u001b[0mself\u001b[0m\u001b[0;34m.\u001b[0m\u001b[0m_state\u001b[0m \u001b[0;32min\u001b[0m \u001b[0;34m[\u001b[0m\u001b[0mCANCELLED\u001b[0m\u001b[0;34m,\u001b[0m \u001b[0mCANCELLED_AND_NOTIFIED\u001b[0m\u001b[0;34m]\u001b[0m\u001b[0;34m:\u001b[0m\u001b[0;34m\u001b[0m\u001b[0m\n",
      "\u001b[0;32m/usr/lib/python3.6/threading.py\u001b[0m in \u001b[0;36mwait\u001b[0;34m(self, timeout)\u001b[0m\n\u001b[1;32m    293\u001b[0m         \u001b[0;32mtry\u001b[0m\u001b[0;34m:\u001b[0m    \u001b[0;31m# restore state no matter what (e.g., KeyboardInterrupt)\u001b[0m\u001b[0;34m\u001b[0m\u001b[0m\n\u001b[1;32m    294\u001b[0m             \u001b[0;32mif\u001b[0m \u001b[0mtimeout\u001b[0m \u001b[0;32mis\u001b[0m \u001b[0;32mNone\u001b[0m\u001b[0;34m:\u001b[0m\u001b[0;34m\u001b[0m\u001b[0m\n\u001b[0;32m--> 295\u001b[0;31m                 \u001b[0mwaiter\u001b[0m\u001b[0;34m.\u001b[0m\u001b[0macquire\u001b[0m\u001b[0;34m(\u001b[0m\u001b[0;34m)\u001b[0m\u001b[0;34m\u001b[0m\u001b[0m\n\u001b[0m\u001b[1;32m    296\u001b[0m                 \u001b[0mgotit\u001b[0m \u001b[0;34m=\u001b[0m \u001b[0;32mTrue\u001b[0m\u001b[0;34m\u001b[0m\u001b[0m\n\u001b[1;32m    297\u001b[0m             \u001b[0;32melse\u001b[0m\u001b[0;34m:\u001b[0m\u001b[0;34m\u001b[0m\u001b[0m\n",
      "\u001b[0;31mKeyboardInterrupt\u001b[0m: "
     ]
    }
   ],
   "source": [
    "rf_random = RandomizedSearchCV(estimator = forest_clf, param_distributions = random_grid, n_iter = 100, cv = 3, verbose=2, random_state=42, n_jobs = -1)\n",
    "# Fit the random search model\n",
    "rf_random.fit(X_train, y_train)"
   ]
  },
  {
   "cell_type": "code",
   "execution_count": 93,
   "metadata": {},
   "outputs": [],
   "source": [
    "best_forest = rf_random.best_estimator_"
   ]
  },
  {
   "cell_type": "code",
   "execution_count": 94,
   "metadata": {},
   "outputs": [
    {
     "data": {
      "text/plain": [
       "0.9497835497835497"
      ]
     },
     "execution_count": 94,
     "metadata": {},
     "output_type": "execute_result"
    }
   ],
   "source": [
    "best_forest.fit(X_train, y_train)\n",
    "forest_scores = cross_val_score(best_forest, X_train, y_train, cv=10)\n",
    "\n",
    "forest_pred = best_forest.predict(X_test)\n",
    "forest_scores.mean()\n"
   ]
  },
  {
   "cell_type": "code",
   "execution_count": null,
   "metadata": {},
   "outputs": [],
   "source": [
    "from joblib import dump\n",
    "dump(best_forest, 'model.joblib')"
   ]
  },
  {
   "cell_type": "markdown",
   "metadata": {},
   "source": [
    "cm = confusion_matrix(y_test, forest_pred)\n",
    "cm"
   ]
  },
  {
   "cell_type": "code",
   "execution_count": 95,
   "metadata": {},
   "outputs": [
    {
     "data": {
      "text/plain": [
       "0.8880018934366759"
      ]
     },
     "execution_count": 95,
     "metadata": {},
     "output_type": "execute_result"
    }
   ],
   "source": [
    "from sklearn.metrics import f1_score, precision_score, recall_score\n",
    "f1_score(y_test, forest_pred, average=\"macro\")"
   ]
  },
  {
   "cell_type": "code",
   "execution_count": 96,
   "metadata": {},
   "outputs": [
    {
     "data": {
      "text/plain": [
       "0.9111111111111111"
      ]
     },
     "execution_count": 96,
     "metadata": {},
     "output_type": "execute_result"
    }
   ],
   "source": [
    "precision_score(y_test, forest_pred, average=\"macro\")"
   ]
  },
  {
   "cell_type": "code",
   "execution_count": 97,
   "metadata": {},
   "outputs": [
    {
     "data": {
      "text/plain": [
       "0.8943722943722944"
      ]
     },
     "execution_count": 97,
     "metadata": {},
     "output_type": "execute_result"
    }
   ],
   "source": [
    "recall_score(y_test, forest_pred, average=\"macro\")"
   ]
  }
 ],
 "metadata": {
  "kernelspec": {
   "display_name": "Python 3",
   "language": "python",
   "name": "python3"
  },
  "language_info": {
   "codemirror_mode": {
    "name": "ipython",
    "version": 3
   },
   "file_extension": ".py",
   "mimetype": "text/x-python",
   "name": "python",
   "nbconvert_exporter": "python",
   "pygments_lexer": "ipython3",
   "version": "3.6.5"
  }
 },
 "nbformat": 4,
 "nbformat_minor": 2
}
